{
  "nbformat": 4,
  "nbformat_minor": 0,
  "metadata": {
    "kernelspec": {
      "display_name": "Python 3",
      "language": "python",
      "name": "python3"
    },
    "language_info": {
      "codemirror_mode": {
        "name": "ipython",
        "version": 3
      },
      "file_extension": ".py",
      "mimetype": "text/x-python",
      "name": "python",
      "nbconvert_exporter": "python",
      "pygments_lexer": "ipython3",
      "version": "3.8.5"
    },
    "colab": {
      "name": "Thesis2.ipynb",
      "provenance": [],
      "collapsed_sections": []
    }
  },
  "cells": [
    {
      "cell_type": "code",
      "metadata": {
        "scrolled": true,
        "colab": {
          "base_uri": "https://localhost:8080/",
          "height": 518
        },
        "id": "7xwTJPwGCrfs",
        "outputId": "4032626a-d9ae-4ae6-d29e-b6e947aef59a"
      },
      "source": [
        "import pandas as pd\n",
        "import numpy as num\n",
        "\n",
        "url = 'https://raw.githubusercontent.com/N0CTIS99/thesisdataset/main/credit_risk.csv'\n",
        "dataset = pd.read_csv(url)\n",
        "dataset.head()"
      ],
      "execution_count": null,
      "outputs": [
        {
          "output_type": "execute_result",
          "data": {
            "text/html": [
              "<div>\n",
              "<style scoped>\n",
              "    .dataframe tbody tr th:only-of-type {\n",
              "        vertical-align: middle;\n",
              "    }\n",
              "\n",
              "    .dataframe tbody tr th {\n",
              "        vertical-align: top;\n",
              "    }\n",
              "\n",
              "    .dataframe thead th {\n",
              "        text-align: right;\n",
              "    }\n",
              "</style>\n",
              "<table border=\"1\" class=\"dataframe\">\n",
              "  <thead>\n",
              "    <tr style=\"text-align: right;\">\n",
              "      <th></th>\n",
              "      <th>Loan ID</th>\n",
              "      <th>Customer ID</th>\n",
              "      <th>Loan Status</th>\n",
              "      <th>Current Loan Amount</th>\n",
              "      <th>Term</th>\n",
              "      <th>Credit Score</th>\n",
              "      <th>Annual Income</th>\n",
              "      <th>Years in current job</th>\n",
              "      <th>Home Ownership</th>\n",
              "      <th>Purpose</th>\n",
              "      <th>Monthly Debt</th>\n",
              "      <th>Years of Credit History</th>\n",
              "      <th>Months since last delinquent</th>\n",
              "      <th>Number of Open Accounts</th>\n",
              "      <th>Number of Credit Problems</th>\n",
              "      <th>Current Credit Balance</th>\n",
              "      <th>Maximum Open Credit</th>\n",
              "      <th>Bankruptcies</th>\n",
              "      <th>Tax Liens</th>\n",
              "    </tr>\n",
              "  </thead>\n",
              "  <tbody>\n",
              "    <tr>\n",
              "      <th>0</th>\n",
              "      <td>14dd8831-6af5-400b-83ec-68e61888a048</td>\n",
              "      <td>981165ec-3274-42f5-a3b4-d104041a9ca9</td>\n",
              "      <td>Fully Paid</td>\n",
              "      <td>445412.0</td>\n",
              "      <td>Short Term</td>\n",
              "      <td>709.0</td>\n",
              "      <td>1167493.0</td>\n",
              "      <td>8 years</td>\n",
              "      <td>Home Mortgage</td>\n",
              "      <td>Home Improvements</td>\n",
              "      <td>5214.74</td>\n",
              "      <td>17.2</td>\n",
              "      <td>NaN</td>\n",
              "      <td>6.0</td>\n",
              "      <td>1.0</td>\n",
              "      <td>228190.0</td>\n",
              "      <td>416746.0</td>\n",
              "      <td>1.0</td>\n",
              "      <td>0.0</td>\n",
              "    </tr>\n",
              "    <tr>\n",
              "      <th>1</th>\n",
              "      <td>4771cc26-131a-45db-b5aa-537ea4ba5342</td>\n",
              "      <td>2de017a3-2e01-49cb-a581-08169e83be29</td>\n",
              "      <td>Fully Paid</td>\n",
              "      <td>262328.0</td>\n",
              "      <td>Short Term</td>\n",
              "      <td>NaN</td>\n",
              "      <td>NaN</td>\n",
              "      <td>10+ years</td>\n",
              "      <td>Home Mortgage</td>\n",
              "      <td>Debt Consolidation</td>\n",
              "      <td>33295.98</td>\n",
              "      <td>21.1</td>\n",
              "      <td>8.0</td>\n",
              "      <td>35.0</td>\n",
              "      <td>0.0</td>\n",
              "      <td>229976.0</td>\n",
              "      <td>850784.0</td>\n",
              "      <td>0.0</td>\n",
              "      <td>0.0</td>\n",
              "    </tr>\n",
              "    <tr>\n",
              "      <th>2</th>\n",
              "      <td>4eed4e6a-aa2f-4c91-8651-ce984ee8fb26</td>\n",
              "      <td>5efb2b2b-bf11-4dfd-a572-3761a2694725</td>\n",
              "      <td>Fully Paid</td>\n",
              "      <td>99999999.0</td>\n",
              "      <td>Short Term</td>\n",
              "      <td>741.0</td>\n",
              "      <td>2231892.0</td>\n",
              "      <td>8 years</td>\n",
              "      <td>Own Home</td>\n",
              "      <td>Debt Consolidation</td>\n",
              "      <td>29200.53</td>\n",
              "      <td>14.9</td>\n",
              "      <td>29.0</td>\n",
              "      <td>18.0</td>\n",
              "      <td>1.0</td>\n",
              "      <td>297996.0</td>\n",
              "      <td>750090.0</td>\n",
              "      <td>0.0</td>\n",
              "      <td>0.0</td>\n",
              "    </tr>\n",
              "    <tr>\n",
              "      <th>3</th>\n",
              "      <td>77598f7b-32e7-4e3b-a6e5-06ba0d98fe8a</td>\n",
              "      <td>e777faab-98ae-45af-9a86-7ce5b33b1011</td>\n",
              "      <td>Fully Paid</td>\n",
              "      <td>347666.0</td>\n",
              "      <td>Long Term</td>\n",
              "      <td>721.0</td>\n",
              "      <td>806949.0</td>\n",
              "      <td>3 years</td>\n",
              "      <td>Own Home</td>\n",
              "      <td>Debt Consolidation</td>\n",
              "      <td>8741.90</td>\n",
              "      <td>12.0</td>\n",
              "      <td>NaN</td>\n",
              "      <td>9.0</td>\n",
              "      <td>0.0</td>\n",
              "      <td>256329.0</td>\n",
              "      <td>386958.0</td>\n",
              "      <td>0.0</td>\n",
              "      <td>0.0</td>\n",
              "    </tr>\n",
              "    <tr>\n",
              "      <th>4</th>\n",
              "      <td>d4062e70-befa-4995-8643-a0de73938182</td>\n",
              "      <td>81536ad9-5ccf-4eb8-befb-47a4d608658e</td>\n",
              "      <td>Fully Paid</td>\n",
              "      <td>176220.0</td>\n",
              "      <td>Short Term</td>\n",
              "      <td>NaN</td>\n",
              "      <td>NaN</td>\n",
              "      <td>5 years</td>\n",
              "      <td>Rent</td>\n",
              "      <td>Debt Consolidation</td>\n",
              "      <td>20639.70</td>\n",
              "      <td>6.1</td>\n",
              "      <td>NaN</td>\n",
              "      <td>15.0</td>\n",
              "      <td>0.0</td>\n",
              "      <td>253460.0</td>\n",
              "      <td>427174.0</td>\n",
              "      <td>0.0</td>\n",
              "      <td>0.0</td>\n",
              "    </tr>\n",
              "  </tbody>\n",
              "</table>\n",
              "</div>"
            ],
            "text/plain": [
              "                                Loan ID  ... Tax Liens\n",
              "0  14dd8831-6af5-400b-83ec-68e61888a048  ...       0.0\n",
              "1  4771cc26-131a-45db-b5aa-537ea4ba5342  ...       0.0\n",
              "2  4eed4e6a-aa2f-4c91-8651-ce984ee8fb26  ...       0.0\n",
              "3  77598f7b-32e7-4e3b-a6e5-06ba0d98fe8a  ...       0.0\n",
              "4  d4062e70-befa-4995-8643-a0de73938182  ...       0.0\n",
              "\n",
              "[5 rows x 19 columns]"
            ]
          },
          "metadata": {
            "tags": []
          },
          "execution_count": 1
        }
      ]
    },
    {
      "cell_type": "code",
      "metadata": {
        "id": "tJejfyqECrf4"
      },
      "source": [
        "dataset=dataset.drop(['Loan ID'],axis = 1)\n",
        "dataset=dataset.drop(['Customer ID'],axis = 1)"
      ],
      "execution_count": null,
      "outputs": []
    },
    {
      "cell_type": "code",
      "metadata": {
        "colab": {
          "base_uri": "https://localhost:8080/"
        },
        "id": "BRH8eMfYCrf5",
        "outputId": "33834483-350a-4ebf-e59d-19e5e6d73b54"
      },
      "source": [
        "dataset.info()"
      ],
      "execution_count": null,
      "outputs": [
        {
          "output_type": "stream",
          "text": [
            "<class 'pandas.core.frame.DataFrame'>\n",
            "RangeIndex: 100514 entries, 0 to 100513\n",
            "Data columns (total 17 columns):\n",
            " #   Column                        Non-Null Count   Dtype  \n",
            "---  ------                        --------------   -----  \n",
            " 0   Loan Status                   100000 non-null  object \n",
            " 1   Current Loan Amount           100000 non-null  float64\n",
            " 2   Term                          100000 non-null  object \n",
            " 3   Credit Score                  80846 non-null   float64\n",
            " 4   Annual Income                 80846 non-null   float64\n",
            " 5   Years in current job          95778 non-null   object \n",
            " 6   Home Ownership                100000 non-null  object \n",
            " 7   Purpose                       100000 non-null  object \n",
            " 8   Monthly Debt                  100000 non-null  float64\n",
            " 9   Years of Credit History       100000 non-null  float64\n",
            " 10  Months since last delinquent  46859 non-null   float64\n",
            " 11  Number of Open Accounts       100000 non-null  float64\n",
            " 12  Number of Credit Problems     100000 non-null  float64\n",
            " 13  Current Credit Balance        100000 non-null  float64\n",
            " 14  Maximum Open Credit           99998 non-null   float64\n",
            " 15  Bankruptcies                  99796 non-null   float64\n",
            " 16  Tax Liens                     99990 non-null   float64\n",
            "dtypes: float64(12), object(5)\n",
            "memory usage: 13.0+ MB\n"
          ],
          "name": "stdout"
        }
      ]
    },
    {
      "cell_type": "code",
      "metadata": {
        "colab": {
          "base_uri": "https://localhost:8080/"
        },
        "id": "CiHOw73DCrf7",
        "outputId": "0427fbe9-4fb0-45fb-d52b-ccc067c9c908"
      },
      "source": [
        "#feature encoding starts\n",
        "dataset['Loan Status'].unique()"
      ],
      "execution_count": null,
      "outputs": [
        {
          "output_type": "execute_result",
          "data": {
            "text/plain": [
              "array(['Fully Paid', 'Charged Off', nan], dtype=object)"
            ]
          },
          "metadata": {
            "tags": []
          },
          "execution_count": 4
        }
      ]
    },
    {
      "cell_type": "code",
      "metadata": {
        "id": "aLdNQTttCrf8"
      },
      "source": [
        "dataset['Loan Status'] = dataset['Loan Status'].map({'Fully Paid':1,'Charged Off':0})"
      ],
      "execution_count": null,
      "outputs": []
    },
    {
      "cell_type": "code",
      "metadata": {
        "colab": {
          "base_uri": "https://localhost:8080/"
        },
        "id": "52MwsGbeCrf9",
        "outputId": "6475edb6-1581-411b-83ac-1786a1022123"
      },
      "source": [
        "dataset['Term'].unique()"
      ],
      "execution_count": null,
      "outputs": [
        {
          "output_type": "execute_result",
          "data": {
            "text/plain": [
              "array(['Short Term', 'Long Term', nan], dtype=object)"
            ]
          },
          "metadata": {
            "tags": []
          },
          "execution_count": 6
        }
      ]
    },
    {
      "cell_type": "code",
      "metadata": {
        "id": "unH5D_BUCrf_"
      },
      "source": [
        "dataset['Term'] = dataset['Term'].map({'Short Term':1,'Long Term':0})"
      ],
      "execution_count": null,
      "outputs": []
    },
    {
      "cell_type": "code",
      "metadata": {
        "colab": {
          "base_uri": "https://localhost:8080/"
        },
        "id": "VOFUSDPDCrf_",
        "outputId": "2558586b-7829-4ea4-bb8a-b93141f77b24"
      },
      "source": [
        "dataset['Home Ownership'].unique()"
      ],
      "execution_count": null,
      "outputs": [
        {
          "output_type": "execute_result",
          "data": {
            "text/plain": [
              "array(['Home Mortgage', 'Own Home', 'Rent', 'HaveMortgage', nan],\n",
              "      dtype=object)"
            ]
          },
          "metadata": {
            "tags": []
          },
          "execution_count": 8
        }
      ]
    },
    {
      "cell_type": "code",
      "metadata": {
        "id": "IioDJ06DCrf_"
      },
      "source": [
        "dataset['Home Ownership'] = dataset['Home Ownership'].map({'Home Mortgage':0,'Own Home':1,'Rent':2,'HaveMortgage':3})"
      ],
      "execution_count": null,
      "outputs": []
    },
    {
      "cell_type": "code",
      "metadata": {
        "colab": {
          "base_uri": "https://localhost:8080/"
        },
        "id": "fGRrfAL1CrgA",
        "outputId": "096f0bb3-09c1-4f2b-a377-1aa3fecda94f"
      },
      "source": [
        "dataset['Purpose'].unique()"
      ],
      "execution_count": null,
      "outputs": [
        {
          "output_type": "execute_result",
          "data": {
            "text/plain": [
              "array(['Home Improvements', 'Debt Consolidation', 'Buy House', 'other',\n",
              "       'Business Loan', 'Buy a Car', 'major_purchase', 'Take a Trip',\n",
              "       'Other', 'small_business', 'Medical Bills', 'wedding', 'vacation',\n",
              "       'Educational Expenses', 'moving', 'renewable_energy', nan],\n",
              "      dtype=object)"
            ]
          },
          "metadata": {
            "tags": []
          },
          "execution_count": 10
        }
      ]
    },
    {
      "cell_type": "code",
      "metadata": {
        "id": "m8Otah_mCrgB"
      },
      "source": [
        "dataset['Purpose'] = dataset['Purpose'].map({'Home Improvements':0,'Debt Consolidation':1,'Buy House':2,\n",
        "                                             'other':3,'Business Loan':4,'Buy a Car':5,'major_purchase':6,'Take a Trip':7,\n",
        "                                            'Other':3,'small_business':8,'wedding':9,'vacation':10,'Educational Expenses':11,\n",
        "                                            'moving':12,'renewable_energy':13})\n"
      ],
      "execution_count": null,
      "outputs": []
    },
    {
      "cell_type": "code",
      "metadata": {
        "colab": {
          "base_uri": "https://localhost:8080/"
        },
        "id": "f40w0bJpCrgE",
        "outputId": "9f7eab62-e361-44ff-92b1-183c8927c43c"
      },
      "source": [
        "dataset['Years in current job'].unique()"
      ],
      "execution_count": null,
      "outputs": [
        {
          "output_type": "execute_result",
          "data": {
            "text/plain": [
              "array(['8 years', '10+ years', '3 years', '5 years', '< 1 year',\n",
              "       '2 years', '4 years', '9 years', '7 years', '1 year', nan,\n",
              "       '6 years'], dtype=object)"
            ]
          },
          "metadata": {
            "tags": []
          },
          "execution_count": 12
        }
      ]
    },
    {
      "cell_type": "code",
      "metadata": {
        "id": "0qLbVuqFCrgF"
      },
      "source": [
        "dataset['Years in current job'] = dataset['Years in current job'].map({'< 1 year':0,'1 year':1,'2 years':2,\n",
        "                                             '3 years':3,'4 years':4,'5 years':5,'6 years':6,'7 years':7,\n",
        "                                            '8 years':8,'9 years':9,'10+ years':10})"
      ],
      "execution_count": null,
      "outputs": []
    },
    {
      "cell_type": "code",
      "metadata": {
        "colab": {
          "base_uri": "https://localhost:8080/"
        },
        "id": "Lm3LMneTCrgF",
        "outputId": "afd287f4-6cca-447f-e74e-588995c70058"
      },
      "source": [
        "dataset.info()"
      ],
      "execution_count": null,
      "outputs": [
        {
          "output_type": "stream",
          "text": [
            "<class 'pandas.core.frame.DataFrame'>\n",
            "RangeIndex: 100514 entries, 0 to 100513\n",
            "Data columns (total 17 columns):\n",
            " #   Column                        Non-Null Count   Dtype  \n",
            "---  ------                        --------------   -----  \n",
            " 0   Loan Status                   100000 non-null  float64\n",
            " 1   Current Loan Amount           100000 non-null  float64\n",
            " 2   Term                          100000 non-null  float64\n",
            " 3   Credit Score                  80846 non-null   float64\n",
            " 4   Annual Income                 80846 non-null   float64\n",
            " 5   Years in current job          95778 non-null   float64\n",
            " 6   Home Ownership                100000 non-null  float64\n",
            " 7   Purpose                       98873 non-null   float64\n",
            " 8   Monthly Debt                  100000 non-null  float64\n",
            " 9   Years of Credit History       100000 non-null  float64\n",
            " 10  Months since last delinquent  46859 non-null   float64\n",
            " 11  Number of Open Accounts       100000 non-null  float64\n",
            " 12  Number of Credit Problems     100000 non-null  float64\n",
            " 13  Current Credit Balance        100000 non-null  float64\n",
            " 14  Maximum Open Credit           99998 non-null   float64\n",
            " 15  Bankruptcies                  99796 non-null   float64\n",
            " 16  Tax Liens                     99990 non-null   float64\n",
            "dtypes: float64(17)\n",
            "memory usage: 13.0 MB\n"
          ],
          "name": "stdout"
        }
      ]
    },
    {
      "cell_type": "code",
      "metadata": {
        "colab": {
          "base_uri": "https://localhost:8080/"
        },
        "id": "zScUn4aQCrgF",
        "outputId": "03817634-875f-4b5b-c67c-c509aa6a2880"
      },
      "source": [
        "dataset.isnull().sum()"
      ],
      "execution_count": null,
      "outputs": [
        {
          "output_type": "execute_result",
          "data": {
            "text/plain": [
              "Loan Status                       514\n",
              "Current Loan Amount               514\n",
              "Term                              514\n",
              "Credit Score                    19668\n",
              "Annual Income                   19668\n",
              "Years in current job             4736\n",
              "Home Ownership                    514\n",
              "Purpose                          1641\n",
              "Monthly Debt                      514\n",
              "Years of Credit History           514\n",
              "Months since last delinquent    53655\n",
              "Number of Open Accounts           514\n",
              "Number of Credit Problems         514\n",
              "Current Credit Balance            514\n",
              "Maximum Open Credit               516\n",
              "Bankruptcies                      718\n",
              "Tax Liens                         524\n",
              "dtype: int64"
            ]
          },
          "metadata": {
            "tags": []
          },
          "execution_count": 15
        }
      ]
    },
    {
      "cell_type": "code",
      "metadata": {
        "id": "b7CqEtsACrgG"
      },
      "source": [
        "#imputing null Values\n",
        "from sklearn.impute import SimpleImputer\n",
        "impute = SimpleImputer(missing_values=num.nan, strategy='mean')\n",
        "impute.fit(dataset[['Current Loan Amount']])\n",
        "dataset['Current Loan Amount']=impute.transform(dataset[['Current Loan Amount']])"
      ],
      "execution_count": null,
      "outputs": []
    },
    {
      "cell_type": "code",
      "metadata": {
        "id": "_TMAsU84CrgH"
      },
      "source": [
        "impute.fit(dataset[['Credit Score']])\n",
        "dataset['Credit Score']=impute.transform(dataset[['Credit Score']])\n",
        "impute.fit(dataset[['Annual Income']])\n",
        "dataset['Annual Income']=impute.transform(dataset[['Annual Income']])\n",
        "impute.fit(dataset[['Years in current job']])\n",
        "dataset['Years in current job']=impute.transform(dataset[['Years in current job']])"
      ],
      "execution_count": null,
      "outputs": []
    },
    {
      "cell_type": "code",
      "metadata": {
        "id": "Vx-9EEYQCrgH"
      },
      "source": [
        "impute.fit(dataset[['Term']])\n",
        "dataset['Term']=impute.transform(dataset[['Term']])\n",
        "impute.fit(dataset[['Loan Status']])\n",
        "dataset['Loan Status']=impute.transform(dataset[['Loan Status']])"
      ],
      "execution_count": null,
      "outputs": []
    },
    {
      "cell_type": "code",
      "metadata": {
        "id": "F9fkUGJdCrgH"
      },
      "source": [
        "impute.fit(dataset[['Home Ownership']])\n",
        "dataset['Home Ownership']=impute.transform(dataset[['Home Ownership']])"
      ],
      "execution_count": null,
      "outputs": []
    },
    {
      "cell_type": "code",
      "metadata": {
        "id": "7WK2EcegCrgI"
      },
      "source": [
        "impute.fit(dataset[['Purpose']])\n",
        "dataset['Purpose']=impute.transform(dataset[['Purpose']])"
      ],
      "execution_count": null,
      "outputs": []
    },
    {
      "cell_type": "code",
      "metadata": {
        "id": "cl5_ZWWrCrgI"
      },
      "source": [
        "impute.fit(dataset[['Monthly Debt']])\n",
        "dataset['Monthly Debt']=impute.transform(dataset[['Monthly Debt']])"
      ],
      "execution_count": null,
      "outputs": []
    },
    {
      "cell_type": "code",
      "metadata": {
        "id": "t5CGXJ6ZCrgJ"
      },
      "source": [
        "impute.fit(dataset[['Years of Credit History']])\n",
        "dataset['Years of Credit History']=impute.transform(dataset[['Years of Credit History']])"
      ],
      "execution_count": null,
      "outputs": []
    },
    {
      "cell_type": "code",
      "metadata": {
        "id": "CkeXCxBZCrgK"
      },
      "source": [
        "impute.fit(dataset[['Number of Open Accounts']])\n",
        "dataset['Number of Open Accounts']=impute.transform(dataset[['Number of Open Accounts']])"
      ],
      "execution_count": null,
      "outputs": []
    },
    {
      "cell_type": "code",
      "metadata": {
        "id": "DXME7PaPCrgK"
      },
      "source": [
        "impute.fit(dataset[['Number of Credit Problems']])\n",
        "dataset['Number of Credit Problems']=impute.transform(dataset[['Number of Credit Problems']])"
      ],
      "execution_count": null,
      "outputs": []
    },
    {
      "cell_type": "code",
      "metadata": {
        "id": "pme8bEHbCrgK"
      },
      "source": [
        "impute.fit(dataset[['Current Credit Balance']])\n",
        "dataset['Current Credit Balance']=impute.transform(dataset[['Current Credit Balance']])"
      ],
      "execution_count": null,
      "outputs": []
    },
    {
      "cell_type": "code",
      "metadata": {
        "id": "YC30u-MaCrgL"
      },
      "source": [
        "impute.fit(dataset[['Maximum Open Credit']])\n",
        "dataset['Maximum Open Credit']=impute.transform(dataset[['Maximum Open Credit']])"
      ],
      "execution_count": null,
      "outputs": []
    },
    {
      "cell_type": "code",
      "metadata": {
        "id": "ljGLGeExCrgL"
      },
      "source": [
        "impute.fit(dataset[['Bankruptcies']])\n",
        "dataset['Bankruptcies']=impute.transform(dataset[['Bankruptcies']])"
      ],
      "execution_count": null,
      "outputs": []
    },
    {
      "cell_type": "code",
      "metadata": {
        "id": "WQyxY5JoCrgL"
      },
      "source": [
        "impute.fit(dataset[['Tax Liens']])\n",
        "dataset['Tax Liens']=impute.transform(dataset[['Tax Liens']])"
      ],
      "execution_count": null,
      "outputs": []
    },
    {
      "cell_type": "code",
      "metadata": {
        "scrolled": true,
        "colab": {
          "base_uri": "https://localhost:8080/"
        },
        "id": "XFD6K4oDCrgM",
        "outputId": "0597775b-e89a-44b9-d07f-79628fd99ee1"
      },
      "source": [
        "dataset.isnull().sum()"
      ],
      "execution_count": null,
      "outputs": [
        {
          "output_type": "execute_result",
          "data": {
            "text/plain": [
              "Loan Status                         0\n",
              "Current Loan Amount                 0\n",
              "Term                                0\n",
              "Credit Score                        0\n",
              "Annual Income                       0\n",
              "Years in current job                0\n",
              "Home Ownership                      0\n",
              "Purpose                             0\n",
              "Monthly Debt                        0\n",
              "Years of Credit History             0\n",
              "Months since last delinquent    53655\n",
              "Number of Open Accounts             0\n",
              "Number of Credit Problems           0\n",
              "Current Credit Balance              0\n",
              "Maximum Open Credit                 0\n",
              "Bankruptcies                        0\n",
              "Tax Liens                           0\n",
              "dtype: int64"
            ]
          },
          "metadata": {
            "tags": []
          },
          "execution_count": 29
        }
      ]
    },
    {
      "cell_type": "code",
      "metadata": {
        "colab": {
          "base_uri": "https://localhost:8080/",
          "height": 229
        },
        "id": "FhAmuDv1CrgM",
        "outputId": "09a9c9f6-5936-4e94-90a3-228c90f287f0"
      },
      "source": [
        "#Dropping Months since last delinquent Because it has more than 50% null Values\n",
        "dataset=dataset.drop(['Months since last delinquent'],axis = 1)\n",
        "#dataset= dataset.astype(int)\n",
        "dataset.head()"
      ],
      "execution_count": null,
      "outputs": [
        {
          "output_type": "execute_result",
          "data": {
            "text/html": [
              "<div>\n",
              "<style scoped>\n",
              "    .dataframe tbody tr th:only-of-type {\n",
              "        vertical-align: middle;\n",
              "    }\n",
              "\n",
              "    .dataframe tbody tr th {\n",
              "        vertical-align: top;\n",
              "    }\n",
              "\n",
              "    .dataframe thead th {\n",
              "        text-align: right;\n",
              "    }\n",
              "</style>\n",
              "<table border=\"1\" class=\"dataframe\">\n",
              "  <thead>\n",
              "    <tr style=\"text-align: right;\">\n",
              "      <th></th>\n",
              "      <th>Loan Status</th>\n",
              "      <th>Current Loan Amount</th>\n",
              "      <th>Term</th>\n",
              "      <th>Credit Score</th>\n",
              "      <th>Annual Income</th>\n",
              "      <th>Years in current job</th>\n",
              "      <th>Home Ownership</th>\n",
              "      <th>Purpose</th>\n",
              "      <th>Monthly Debt</th>\n",
              "      <th>Years of Credit History</th>\n",
              "      <th>Number of Open Accounts</th>\n",
              "      <th>Number of Credit Problems</th>\n",
              "      <th>Current Credit Balance</th>\n",
              "      <th>Maximum Open Credit</th>\n",
              "      <th>Bankruptcies</th>\n",
              "      <th>Tax Liens</th>\n",
              "    </tr>\n",
              "  </thead>\n",
              "  <tbody>\n",
              "    <tr>\n",
              "      <th>0</th>\n",
              "      <td>1.0</td>\n",
              "      <td>445412.0</td>\n",
              "      <td>1.0</td>\n",
              "      <td>709.000000</td>\n",
              "      <td>1.167493e+06</td>\n",
              "      <td>8.0</td>\n",
              "      <td>0.0</td>\n",
              "      <td>0.0</td>\n",
              "      <td>5214.74</td>\n",
              "      <td>17.2</td>\n",
              "      <td>6.0</td>\n",
              "      <td>1.0</td>\n",
              "      <td>228190.0</td>\n",
              "      <td>416746.0</td>\n",
              "      <td>1.0</td>\n",
              "      <td>0.0</td>\n",
              "    </tr>\n",
              "    <tr>\n",
              "      <th>1</th>\n",
              "      <td>1.0</td>\n",
              "      <td>262328.0</td>\n",
              "      <td>1.0</td>\n",
              "      <td>1076.456089</td>\n",
              "      <td>1.378277e+06</td>\n",
              "      <td>10.0</td>\n",
              "      <td>0.0</td>\n",
              "      <td>1.0</td>\n",
              "      <td>33295.98</td>\n",
              "      <td>21.1</td>\n",
              "      <td>35.0</td>\n",
              "      <td>0.0</td>\n",
              "      <td>229976.0</td>\n",
              "      <td>850784.0</td>\n",
              "      <td>0.0</td>\n",
              "      <td>0.0</td>\n",
              "    </tr>\n",
              "    <tr>\n",
              "      <th>2</th>\n",
              "      <td>1.0</td>\n",
              "      <td>99999999.0</td>\n",
              "      <td>1.0</td>\n",
              "      <td>741.000000</td>\n",
              "      <td>2.231892e+06</td>\n",
              "      <td>8.0</td>\n",
              "      <td>1.0</td>\n",
              "      <td>1.0</td>\n",
              "      <td>29200.53</td>\n",
              "      <td>14.9</td>\n",
              "      <td>18.0</td>\n",
              "      <td>1.0</td>\n",
              "      <td>297996.0</td>\n",
              "      <td>750090.0</td>\n",
              "      <td>0.0</td>\n",
              "      <td>0.0</td>\n",
              "    </tr>\n",
              "    <tr>\n",
              "      <th>3</th>\n",
              "      <td>1.0</td>\n",
              "      <td>347666.0</td>\n",
              "      <td>0.0</td>\n",
              "      <td>721.000000</td>\n",
              "      <td>8.069490e+05</td>\n",
              "      <td>3.0</td>\n",
              "      <td>1.0</td>\n",
              "      <td>1.0</td>\n",
              "      <td>8741.90</td>\n",
              "      <td>12.0</td>\n",
              "      <td>9.0</td>\n",
              "      <td>0.0</td>\n",
              "      <td>256329.0</td>\n",
              "      <td>386958.0</td>\n",
              "      <td>0.0</td>\n",
              "      <td>0.0</td>\n",
              "    </tr>\n",
              "    <tr>\n",
              "      <th>4</th>\n",
              "      <td>1.0</td>\n",
              "      <td>176220.0</td>\n",
              "      <td>1.0</td>\n",
              "      <td>1076.456089</td>\n",
              "      <td>1.378277e+06</td>\n",
              "      <td>5.0</td>\n",
              "      <td>2.0</td>\n",
              "      <td>1.0</td>\n",
              "      <td>20639.70</td>\n",
              "      <td>6.1</td>\n",
              "      <td>15.0</td>\n",
              "      <td>0.0</td>\n",
              "      <td>253460.0</td>\n",
              "      <td>427174.0</td>\n",
              "      <td>0.0</td>\n",
              "      <td>0.0</td>\n",
              "    </tr>\n",
              "  </tbody>\n",
              "</table>\n",
              "</div>"
            ],
            "text/plain": [
              "   Loan Status  Current Loan Amount  ...  Bankruptcies  Tax Liens\n",
              "0          1.0             445412.0  ...           1.0        0.0\n",
              "1          1.0             262328.0  ...           0.0        0.0\n",
              "2          1.0           99999999.0  ...           0.0        0.0\n",
              "3          1.0             347666.0  ...           0.0        0.0\n",
              "4          1.0             176220.0  ...           0.0        0.0\n",
              "\n",
              "[5 rows x 16 columns]"
            ]
          },
          "metadata": {
            "tags": []
          },
          "execution_count": 30
        }
      ]
    },
    {
      "cell_type": "code",
      "metadata": {
        "id": "Xt4UDtpkCrgN"
      },
      "source": [
        "#Scaling data except the encoded features\n",
        "from sklearn.preprocessing import MinMaxScaler\n",
        "myscale = MinMaxScaler()\n",
        "#myscale.fit(dataset)\n",
        "#scaledset = myscale.transform(dataset)\n",
        "dataset[['Current Loan Amount','Credit Score','Annual Income','Monthly Debt','Years of Credit History','Number of Open Accounts','Number of Credit Problems','Current Credit Balance','Maximum Open Credit','Bankruptcies','Tax Liens']] =myscale.fit_transform(dataset[['Current Loan Amount','Credit Score','Annual Income','Monthly Debt','Years of Credit History','Number of Open Accounts','Number of Credit Problems','Current Credit Balance','Maximum Open Credit','Bankruptcies','Tax Liens']])"
      ],
      "execution_count": null,
      "outputs": []
    },
    {
      "cell_type": "code",
      "metadata": {
        "id": "SVS47LU-CrgN"
      },
      "source": [
        "#train test spliting\n",
        "from sklearn.model_selection import train_test_split\n",
        "X=dataset.drop(['Loan Status'], axis = 1)\n",
        "y=dataset['Loan Status'].astype(int)\n",
        "#X.head()\n",
        "X_train, X_test, y_train, y_test = train_test_split(X, y, test_size=0.2,random_state=2)"
      ],
      "execution_count": null,
      "outputs": []
    },
    {
      "cell_type": "code",
      "metadata": {
        "colab": {
          "base_uri": "https://localhost:8080/"
        },
        "id": "cYRYDKmJCrgO",
        "outputId": "f6cb100c-4ed9-4251-f0ff-738489f23c94"
      },
      "source": [
        "#Checking Accuracy For  Logistic Regression\n",
        "from sklearn.metrics import classification_report\n",
        "from sklearn.metrics import accuracy_score\n",
        "from sklearn.linear_model import LogisticRegression\n",
        "model = LogisticRegression(max_iter=500)\n",
        "model.fit(X_train, y_train)\n",
        "predictions = model.predict(X_test)\n",
        "#print(predictions)\n",
        "acc=accuracy_score(y_test, predictions)\n",
        "print(acc)\n",
        "print(classification_report(y_test, predictions))"
      ],
      "execution_count": null,
      "outputs": [
        {
          "output_type": "stream",
          "text": [
            "0.816644281947968\n",
            "              precision    recall  f1-score   support\n",
            "\n",
            "           0       1.00      0.20      0.33      4604\n",
            "           1       0.81      1.00      0.89     15499\n",
            "\n",
            "    accuracy                           0.82     20103\n",
            "   macro avg       0.90      0.60      0.61     20103\n",
            "weighted avg       0.85      0.82      0.77     20103\n",
            "\n"
          ],
          "name": "stdout"
        }
      ]
    },
    {
      "cell_type": "code",
      "metadata": {
        "colab": {
          "base_uri": "https://localhost:8080/"
        },
        "id": "1IkIGFkNCrgO",
        "outputId": "91c0a59d-6429-4905-fd6c-566a95054c88"
      },
      "source": [
        "#Checking Accuracy For  Random Forest\n",
        "from sklearn.ensemble import RandomForestClassifier\n",
        "randomf = RandomForestClassifier(n_estimators=50)\n",
        "randomf.fit(X_train, y_train)\n",
        "randomf_predictions =randomf.predict(X_test)\n",
        "rf_acc=accuracy_score(y_test, randomf_predictions)\n",
        "print(rf_acc)\n",
        "print(classification_report(y_test, randomf_predictions))"
      ],
      "execution_count": null,
      "outputs": [
        {
          "output_type": "stream",
          "text": [
            "0.8224145649903\n",
            "              precision    recall  f1-score   support\n",
            "\n",
            "           0       0.86      0.27      0.41      4604\n",
            "           1       0.82      0.99      0.90     15499\n",
            "\n",
            "    accuracy                           0.82     20103\n",
            "   macro avg       0.84      0.63      0.65     20103\n",
            "weighted avg       0.83      0.82      0.78     20103\n",
            "\n"
          ],
          "name": "stdout"
        }
      ]
    },
    {
      "cell_type": "code",
      "metadata": {
        "colab": {
          "base_uri": "https://localhost:8080/"
        },
        "id": "Wjw9etnhCrgP",
        "outputId": "6ad74f7d-e99a-4c02-f999-78da986f609a"
      },
      "source": [
        "#Checking Accuracy For Linear Regression\n",
        "from sklearn.linear_model import LinearRegression\n",
        "import matplotlib.pyplot as plt\n",
        "%matplotlib inline\n",
        "lr= LinearRegression()\n",
        "lr.fit(X_train, y_train)\n",
        "lr_predictions =lr.predict(X_test)\n",
        "lr_acc=accuracy_score(y_test, lr_predictions.round())\n",
        "print(lr_acc)\n",
        "print(classification_report(y_test, lr_predictions.round()))"
      ],
      "execution_count": null,
      "outputs": [
        {
          "output_type": "stream",
          "text": [
            "0.816644281947968\n",
            "              precision    recall  f1-score   support\n",
            "\n",
            "           0       1.00      0.20      0.33      4604\n",
            "           1       0.81      1.00      0.89     15499\n",
            "\n",
            "    accuracy                           0.82     20103\n",
            "   macro avg       0.90      0.60      0.61     20103\n",
            "weighted avg       0.85      0.82      0.77     20103\n",
            "\n"
          ],
          "name": "stdout"
        }
      ]
    },
    {
      "cell_type": "code",
      "metadata": {
        "colab": {
          "base_uri": "https://localhost:8080/"
        },
        "id": "Y-JD5k1lCrgP",
        "outputId": "076175f5-989a-4f27-94ae-1da32e6d527a"
      },
      "source": [
        "#Checking Accuracy For KNN\n",
        "from sklearn.neighbors import KNeighborsClassifier\n",
        "knn = KNeighborsClassifier(n_neighbors=20)\n",
        "knn.fit(X_train, y_train)\n",
        "knn_predictions =knn.predict(X_test)\n",
        "knn_acc=accuracy_score(y_test, knn_predictions)\n",
        "print(knn_acc)\n",
        "print(classification_report(y_test, knn_predictions))"
      ],
      "execution_count": null,
      "outputs": [
        {
          "output_type": "stream",
          "text": [
            "0.8152514550067154\n",
            "              precision    recall  f1-score   support\n",
            "\n",
            "           0       0.87      0.23      0.36      4604\n",
            "           1       0.81      0.99      0.89     15499\n",
            "\n",
            "    accuracy                           0.82     20103\n",
            "   macro avg       0.84      0.61      0.63     20103\n",
            "weighted avg       0.82      0.82      0.77     20103\n",
            "\n"
          ],
          "name": "stdout"
        }
      ]
    },
    {
      "cell_type": "code",
      "metadata": {
        "id": "189W56FaCrgP"
      },
      "source": [
        "#Code For ROC Curve\n",
        "from sklearn.metrics import roc_curve, roc_auc_score\n",
        "#predicting\n",
        "r_probs = [0 for _ in range(len(y_test))]\n",
        "rf_probs = randomf.predict_proba(X_test)\n",
        "#lr_probs = lr.predict_proba(X_test)\n",
        "logr_probs = model.predict_proba(X_test)\n",
        "knn_probs=knn.predict_proba(X_test)\n",
        "#choosing positive values\n",
        "rf_probs = rf_probs[:, 1]\n",
        "#lr_probs = lr_probs[:, 1]\n",
        "logr_probs = logr_probs[:, 1]\n",
        "knn_probs = knn_probs[:, 1]"
      ],
      "execution_count": null,
      "outputs": []
    },
    {
      "cell_type": "code",
      "metadata": {
        "id": "3ckgHireCrgP"
      },
      "source": [
        "#calculative curve\n",
        "r_fpr, r_tpr, _ = roc_curve(y_test, r_probs)\n",
        "rf_fpr, rf_tpr, _ = roc_curve(y_test, rf_probs)\n",
        "logr_fpr, logr_tpr, _ = roc_curve(y_test, logr_probs)\n",
        "knn_fpr, knn_tpr, _ = roc_curve(y_test, knn_probs)"
      ],
      "execution_count": null,
      "outputs": []
    },
    {
      "cell_type": "code",
      "metadata": {
        "colab": {
          "base_uri": "https://localhost:8080/",
          "height": 295
        },
        "id": "hMTtx8ZRCrgP",
        "outputId": "a17fbd28-3a6f-467e-85bc-65d56d2784ea"
      },
      "source": [
        "#plotting\n",
        "plt.plot(r_fpr, r_tpr, linestyle='--', label='Random prediction' )\n",
        "plt.plot(rf_fpr, rf_tpr, marker='.', label='Random Forest' )\n",
        "plt.plot(logr_fpr, logr_tpr, marker='.', label='Logistic Regression ')\n",
        "plt.plot(knn_fpr, knn_tpr, marker='.', label='K-nearest Neighbors')\n",
        "\n",
        "plt.title('ROC Plot')\n",
        "\n",
        "plt.xlabel('False Positive Rate')\n",
        "plt.ylabel('True Positive Rate')\n",
        "\n",
        "plt.legend() # \n",
        "\n",
        "plt.show()"
      ],
      "execution_count": null,
      "outputs": [
        {
          "output_type": "display_data",
          "data": {
            "image/png": "[encoded data removed]",
            "text/plain": [
              "<Figure size 432x288 with 1 Axes>"
            ]
          },
          "metadata": {
            "tags": [],
            "needs_background": "light"
          }
        }
      ]
    },
    {
      "cell_type": "code",
      "metadata": {
        "id": "aiINv51pCrgQ",
        "colab": {
          "base_uri": "https://localhost:8080/"
        },
        "outputId": "379b87cd-36db-4e97-bf00-f682deaabf94"
      },
      "source": [
        "#accuracy for GradientBoost\n",
        "from sklearn.ensemble import GradientBoostingClassifier\n",
        "gb = GradientBoostingClassifier()\n",
        "gb.fit(X_train, y_train)\n",
        "gb_predict = gb.predict(X_test)\n",
        "gb_accuracy = accuracy_score(y_test, gb_predict)\n",
        "print(gb_accuracy)\n",
        "print(classification_report(y_test, gb_predict))"
      ],
      "execution_count": null,
      "outputs": [
        {
          "output_type": "stream",
          "text": [
            "0.821867382977665\n",
            "              precision    recall  f1-score   support\n",
            "\n",
            "           0       0.99      0.23      0.37      4604\n",
            "           1       0.81      1.00      0.90     15499\n",
            "\n",
            "    accuracy                           0.82     20103\n",
            "   macro avg       0.90      0.61      0.63     20103\n",
            "weighted avg       0.85      0.82      0.78     20103\n",
            "\n"
          ],
          "name": "stdout"
        }
      ]
    },
    {
      "cell_type": "code",
      "metadata": {
        "colab": {
          "base_uri": "https://localhost:8080/"
        },
        "id": "ArY8YTLQA5GM",
        "outputId": "0ee2e166-2929-4da1-a913-f5e326348d58"
      },
      "source": [
        "#accuracy for XGBoost\n",
        "import xgboost as xgb\n",
        "xgb_classifier = xgb.XGBClassifier(colsample_bytree = 0.3, learning_rate = 0.1, max_depth = 12, n_estimators = 300)\n",
        "xgb_classifier.fit(X_train, y_train)\n",
        "xgb_predict = xgb_classifier.predict(X_test)\n",
        "xgb_accuracy = accuracy_score(y_test, xgb_predict)\n",
        "print(xgb_accuracy)\n",
        "print(classification_report(y_test, xgb_predict))"
      ],
      "execution_count": null,
      "outputs": [
        {
          "output_type": "stream",
          "text": [
            "0.8237576481122221\n",
            "              precision    recall  f1-score   support\n",
            "\n",
            "           0       0.87      0.27      0.41      4604\n",
            "           1       0.82      0.99      0.90     15499\n",
            "\n",
            "    accuracy                           0.82     20103\n",
            "   macro avg       0.85      0.63      0.65     20103\n",
            "weighted avg       0.83      0.82      0.79     20103\n",
            "\n"
          ],
          "name": "stdout"
        }
      ]
    },
    {
      "cell_type": "code",
      "metadata": {
        "colab": {
          "base_uri": "https://localhost:8080/"
        },
        "id": "bcvhG3ipBzMq",
        "outputId": "18d42bec-ee9b-4b1c-ad27-9530a2f53d7b"
      },
      "source": [
        "#accuracy for XGBoostRegressor\n",
        "import xgboost as xgb\n",
        "xgb_regressor = xgb.XGBRegressor(colsample_bytree = 0.3, learning_rate = 0.1, max_depth = 12, n_estimators = 300)\n",
        "xgb_regressor.fit(X_train, y_train)\n",
        "xgb_regressor_predict = xgb_regressor.predict(X_test)\n",
        "xgb_regressor_accuracy = accuracy_score(y_test, xgb_regressor_predict.round())\n",
        "print(xgb_regressor_accuracy)\n",
        "print(classification_report(y_test, xgb_regressor_predict.round()))"
      ],
      "execution_count": null,
      "outputs": [
        {
          "output_type": "stream",
          "text": [
            "[14:40:53] WARNING: /workspace/src/objective/regression_obj.cu:152: reg:linear is now deprecated in favor of reg:squarederror.\n",
            "0.823409441376909\n",
            "              precision    recall  f1-score   support\n",
            "\n",
            "           0       0.89      0.26      0.40      4604\n",
            "           1       0.82      0.99      0.90     15499\n",
            "\n",
            "    accuracy                           0.82     20103\n",
            "   macro avg       0.85      0.63      0.65     20103\n",
            "weighted avg       0.84      0.82      0.78     20103\n",
            "\n"
          ],
          "name": "stdout"
        }
      ]
    },
    {
      "cell_type": "code",
      "metadata": {
        "colab": {
          "base_uri": "https://localhost:8080/"
        },
        "id": "3fXn7kjEq0oY",
        "outputId": "147af80c-0a4b-48a3-d96f-3125e431b112"
      },
      "source": [
        "#accuracy for MLPRegressor(ANN)\n",
        "from sklearn.neural_network import MLPRegressor\n",
        "ann = MLPRegressor(activation='relu', learning_rate = 'adaptive', alpha=1e-5, hidden_layer_sizes= tuple(100 for _ in range(10)))\n",
        "ann.fit(X_train, y_train)\n",
        "ann_predict = ann.predict(X_test)\n",
        "ann_accuracy = accuracy_score(y_test, ann_predict.round())\n",
        "print(ann_accuracy)"
      ],
      "execution_count": null,
      "outputs": [
        {
          "output_type": "stream",
          "text": [
            "0.8215191762423519\n"
          ],
          "name": "stdout"
        }
      ]
    },
    {
      "cell_type": "code",
      "metadata": {
        "colab": {
          "base_uri": "https://localhost:8080/"
        },
        "id": "KvrNLbcqs3Rw",
        "outputId": "dc55b977-31c7-4547-a619-42a0cbc1be4a"
      },
      "source": [
        "#accuracy for ADABoostClassifier\n",
        "from sklearn.ensemble import AdaBoostClassifier\n",
        "ada = AdaBoostClassifier()\n",
        "ada.fit(X_train, y_train)\n",
        "ada_predict = ada.predict(X_test)\n",
        "ada_accuracy = accuracy_score(y_test, ada_predict)\n",
        "print(ada_accuracy)\n",
        "print(classification_report(y_test, ada_predict))"
      ],
      "execution_count": null,
      "outputs": [
        {
          "output_type": "stream",
          "text": [
            "0.8216684077003432\n",
            "              precision    recall  f1-score   support\n",
            "\n",
            "           0       0.98      0.23      0.37      4604\n",
            "           1       0.81      1.00      0.90     15499\n",
            "\n",
            "    accuracy                           0.82     20103\n",
            "   macro avg       0.90      0.61      0.63     20103\n",
            "weighted avg       0.85      0.82      0.77     20103\n",
            "\n"
          ],
          "name": "stdout"
        }
      ]
    },
    {
      "cell_type": "code",
      "metadata": {
        "colab": {
          "base_uri": "https://localhost:8080/"
        },
        "id": "m93Q1DEKt3DU",
        "outputId": "0f25f2f5-a2ed-4846-a6ef-e7432c2f7f14"
      },
      "source": [
        "#accuracy for ADABoostClassifier\n",
        "from sklearn.ensemble import AdaBoostRegressor\n",
        "ada_regressor = AdaBoostRegressor()\n",
        "ada_regressor.fit(X_train, y_train)\n",
        "ada_regressor_predict = ada_regressor.predict(X_test)\n",
        "ada_regressor_accuracy = accuracy_score(y_test, ada_regressor_predict.round())\n",
        "print(ada_regressor_accuracy)\n",
        "print(classification_report(y_test, ada_regressor_predict.round()))"
      ],
      "execution_count": null,
      "outputs": [
        {
          "output_type": "stream",
          "text": [
            "0.8215191762423519\n",
            "              precision    recall  f1-score   support\n",
            "\n",
            "           0       1.00      0.22      0.36      4604\n",
            "           1       0.81      1.00      0.90     15499\n",
            "\n",
            "    accuracy                           0.82     20103\n",
            "   macro avg       0.91      0.61      0.63     20103\n",
            "weighted avg       0.86      0.82      0.77     20103\n",
            "\n"
          ],
          "name": "stdout"
        }
      ]
    }
  ]
}